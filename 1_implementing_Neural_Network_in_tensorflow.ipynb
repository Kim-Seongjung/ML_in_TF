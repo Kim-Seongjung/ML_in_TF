{
 "cells": [
  {
   "cell_type": "markdown",
   "metadata": {},
   "source": [
    "# implementing Neural Network in tensorflow "
   ]
  },
  {
   "cell_type": "code",
   "execution_count": 14,
   "metadata": {
    "collapsed": true
   },
   "outputs": [],
   "source": [
    "import numpy as np\n",
    "import tensorflow as tf\n",
    "import matplotlib.pyplot as plt\n",
    "import time\n",
    "%matplotlib inline \n",
    "\n"
   ]
  },
  {
   "cell_type": "code",
   "execution_count": 15,
   "metadata": {
    "collapsed": true
   },
   "outputs": [],
   "source": [
    "w1_initial=np.random.normal(size=(28*28*1,10)).astype(np.float32)\n",
    "\n"
   ]
  },
  {
   "cell_type": "code",
   "execution_count": 16,
   "metadata": {
    "collapsed": true
   },
   "outputs": [],
   "source": [
    "with tf.device('/gpu:0'):\n",
    "    def next_batch(batch_size , image , label):\n",
    "\n",
    "        a=np.random.randint(np.shape(image)[0] -batch_size)\n",
    "        batch_x = image[a:a+batch_size,:]\n",
    "        batch_y= label[a:a+batch_size,:]\n",
    "        return batch_x, batch_y\n"
   ]
  },
  {
   "cell_type": "markdown",
   "metadata": {},
   "source": [
    "# Load Image"
   ]
  },
  {
   "cell_type": "code",
   "execution_count": 17,
   "metadata": {
    "collapsed": false
   },
   "outputs": [
    {
     "name": "stdout",
     "output_type": "stream",
     "text": [
      "(5000, 28, 28, 1)\n"
     ]
    }
   ],
   "source": [
    "train_img=np.load('/home/user01/data/train_img.npy')\n",
    "train_lab=np.load('/home/user01/data/train_lab.npy')\n",
    "test_img=np.load('/home/user01/data/test_img.npy')\n",
    "test_lab=np.load('/home/user01/data/test_lab.npy')\n",
    "val_img=np.load('/home/user01/data/val_img.npy')\n",
    "val_lab=np.load('/home/user01/data/val_lab.npy')\n",
    "\n",
    "print np.shape(val_img)"
   ]
  },
  {
   "cell_type": "code",
   "execution_count": 18,
   "metadata": {
    "collapsed": false,
    "scrolled": true
   },
   "outputs": [
    {
     "name": "stdout",
     "output_type": "stream",
     "text": [
      "[ 0.  0.  0.  0.  0.  1.  0.  0.  0.  0.]\n"
     ]
    },
    {
     "data": {
      "text/plain": [
       "<matplotlib.image.AxesImage at 0x7f2cd636c110>"
      ]
     },
     "execution_count": 18,
     "metadata": {},
     "output_type": "execute_result"
    },
    {
     "data": {
      "image/png": "[encoded data removed]",
      "text/plain": [
       "<matplotlib.figure.Figure at 0x7f2cd630db10>"
      ]
     },
     "metadata": {},
     "output_type": "display_data"
    }
   ],
   "source": [
    "\n",
    "img=np.reshape(val_img[0] ,newshape=[28,28])\n",
    "lab=val_lab[0]\n",
    "print lab\n",
    "\n",
    "plt.imshow(img, cmap='binary' )\n"
   ]
  },
  {
   "cell_type": "markdown",
   "metadata": {},
   "source": [
    "# Building graph"
   ]
  },
  {
   "cell_type": "code",
   "execution_count": 19,
   "metadata": {
    "collapsed": false
   },
   "outputs": [],
   "source": [
    "\n",
    "x_pre=tf.placeholder(tf.float32 , shape=[None,28,28,1])\n",
    "x_ = tf.reshape(x_pre , shape=[-1,28*28*1])\n",
    "y_=tf.placeholder(tf.float32 , shape=[None , 10])\n"
   ]
  },
  {
   "cell_type": "code",
   "execution_count": 20,
   "metadata": {
    "collapsed": false
   },
   "outputs": [],
   "source": [
    "#Layer1 without Batch Normalization  \n",
    "w1 = tf.Variable(w1_initial)\n",
    "b1=tf.Variable(tf.zeros([10]))\n",
    "z1=tf.matmul(x_,w1)\n",
    "l1=tf.nn.relu(z1)\n",
    "y=tf.nn.softmax(l1)"
   ]
  },
  {
   "cell_type": "markdown",
   "metadata": {},
   "source": [
    "# training"
   ]
  },
  {
   "cell_type": "code",
   "execution_count": 21,
   "metadata": {
    "collapsed": false
   },
   "outputs": [],
   "source": [
    "cross_entropy =tf.reduce_mean(-tf.reduce_sum(y_ * tf.log(y), reduction_indices=[1]))\n",
    "\n",
    "\n",
    "train_step =tf.train.GradientDescentOptimizer(0.5).minimize(cross_entropy)\n",
    "\n",
    "correct_prediction = tf.equal(tf.arg_max(y,1) , tf.arg_max(y_ , 1))\n",
    "\n",
    "accuracy = tf.reduce_mean(tf.cast(correct_prediction , tf.float32))\n",
    "\n",
    "\n"
   ]
  },
  {
   "cell_type": "markdown",
   "metadata": {},
   "source": [
    "# Training Nueral Network"
   ]
  },
  {
   "cell_type": "code",
   "execution_count": 22,
   "metadata": {
    "collapsed": false
   },
   "outputs": [
    {
     "name": "stdout",
     "output_type": "stream",
     "text": [
      "WARNING:tensorflow:From <ipython-input-22-246919090c9e>:4 in <module>.: initialize_all_variables (from tensorflow.python.ops.variables) is deprecated and will be removed after 2017-03-02.\n",
      "Instructions for updating:\n",
      "Use `tf.global_variables_initializer` instead.\n"
     ]
    }
   ],
   "source": [
    "zs , BNs , acc, acc_BNs = [],[],[],[]\n",
    "\n",
    "\n",
    "init=tf.initialize_all_variables()\n",
    "sess = tf.Session()\n",
    "\n",
    "sess.run(init)"
   ]
  },
  {
   "cell_type": "code",
   "execution_count": 23,
   "metadata": {
    "collapsed": false
   },
   "outputs": [
    {
     "name": "stdout",
     "output_type": "stream",
     "text": [
      "step: 0 training 0.0666667            validation 0.0546\n",
      "\n",
      "step: 50 training 0.183333            validation 0.198\n",
      "\n",
      "step: 100 training 0.183333            validation 0.2338\n",
      "\n",
      "step: 150 training 0.183333            validation 0.2724\n",
      "\n",
      "step: 200 training 0.283333            validation 0.304\n",
      "\n",
      "step: 250 training 0.35            validation 0.3206\n",
      "\n",
      "step: 300 training 0.3            validation 0.333\n",
      "\n",
      "step: 350 training 0.216667            validation 0.343\n",
      "\n",
      "step: 400 training 0.383333            validation 0.37\n",
      "\n",
      "step: 450 training 0.366667            validation 0.3814\n",
      "\n",
      "step: 500 training 0.416667            validation 0.394\n",
      "\n",
      "step: 550 training 0.5            validation 0.4046\n",
      "\n",
      "step: 600 training 0.366667            validation 0.4086\n",
      "\n",
      "step: 650 training 0.416667            validation 0.4202\n",
      "\n",
      "step: 700 training 0.416667            validation 0.4264\n",
      "\n",
      "step: 750 training 0.483333            validation 0.4298\n",
      "\n",
      "step: 800 training 0.416667            validation 0.4306\n",
      "\n",
      "step: 850 training 0.466667            validation 0.436\n",
      "\n",
      "step: 900 training 0.45            validation 0.4336\n",
      "\n",
      "step: 950 training 0.45            validation 0.4394\n",
      "\n",
      "step: 1000 training 0.416667            validation 0.4458\n",
      "\n",
      "step: 1050 training 0.466667            validation 0.4482\n",
      "\n",
      "step: 1100 training 0.483333            validation 0.4624\n",
      "\n",
      "step: 1150 training 0.533333            validation 0.4706\n",
      "\n",
      "step: 1200 training 0.4            validation 0.4802\n",
      "\n",
      "step: 1250 training 0.583333            validation 0.4924\n",
      "\n",
      "step: 1300 training 0.566667            validation 0.499\n",
      "\n",
      "step: 1350 training 0.466667            validation 0.5128\n",
      "\n",
      "step: 1400 training 0.433333            validation 0.5182\n",
      "\n",
      "step: 1450 training 0.55            validation 0.517\n",
      "\n",
      "step: 1500 training 0.533333            validation 0.529\n",
      "\n",
      "step: 1550 training 0.45            validation 0.5254\n",
      "\n",
      "step: 1600 training 0.45            validation 0.5278\n",
      "\n",
      "step: 1650 training 0.416667            validation 0.5366\n",
      "\n",
      "step: 1700 training 0.566667            validation 0.539\n",
      "\n",
      "step: 1750 training 0.466667            validation 0.5394\n",
      "\n",
      "step: 1800 training 0.6            validation 0.5444\n",
      "\n",
      "step: 1850 training 0.45            validation 0.535\n",
      "\n",
      "step: 1900 training 0.433333            validation 0.545\n",
      "\n",
      "step: 1950 training 0.583333            validation 0.5444\n",
      "\n",
      "step: 2000 training 0.566667            validation 0.5498\n",
      "\n",
      "step: 2050 training 0.4            validation 0.5474\n",
      "\n",
      "step: 2100 training 0.45            validation 0.5478\n",
      "\n",
      "step: 2150 training 0.5            validation 0.5486\n",
      "\n",
      "step: 2200 training 0.616667            validation 0.5494\n",
      "\n",
      "step: 2250 training 0.45            validation 0.5512\n",
      "\n",
      "step: 2300 training 0.533333            validation 0.5488\n",
      "\n",
      "step: 2350 training 0.483333            validation 0.5484\n",
      "\n",
      "step: 2400 training 0.633333            validation 0.5508\n",
      "\n",
      "step: 2450 training 0.566667            validation 0.554\n",
      "\n",
      "step: 2500 training 0.533333            validation 0.5512\n",
      "\n",
      "step: 2550 training 0.566667            validation 0.5576\n",
      "\n",
      "step: 2600 training 0.6            validation 0.5548\n",
      "\n",
      "step: 2650 training 0.533333            validation 0.5572\n",
      "\n",
      "step: 2700 training 0.516667            validation 0.555\n",
      "\n",
      "step: 2750 training 0.566667            validation 0.559\n",
      "\n",
      "step: 2800 training 0.55            validation 0.5578\n",
      "\n",
      "step: 2850 training 0.6            validation 0.5664\n",
      "\n",
      "step: 2900 training 0.483333            validation 0.5858\n",
      "\n",
      "step: 2950 training 0.55            validation 0.6004\n",
      "\n",
      "step: 3000 training 0.616667            validation 0.6108\n",
      "\n",
      "step: 3050 training 0.566667            validation 0.6182\n",
      "\n",
      "step: 3100 training 0.55            validation 0.615\n",
      "\n",
      "step: 3150 training 0.633333            validation 0.6122\n",
      "\n",
      "step: 3200 training 0.6            validation 0.621\n",
      "\n",
      "step: 3250 training 0.65            validation 0.6272\n",
      "\n",
      "step: 3300 training 0.65            validation 0.6268\n",
      "\n",
      "step: 3350 training 0.55            validation 0.6258\n",
      "\n",
      "step: 3400 training 0.583333            validation 0.6298\n",
      "\n",
      "step: 3450 training 0.6            validation 0.6332\n",
      "\n",
      "step: 3500 training 0.583333            validation 0.6314\n",
      "\n",
      "step: 3550 training 0.616667            validation 0.632\n",
      "\n",
      "step: 3600 training 0.483333            validation 0.6356\n",
      "\n",
      "step: 3650 training 0.766667            validation 0.6372\n",
      "\n",
      "step: 3700 training 0.583333            validation 0.6348\n",
      "\n",
      "step: 3750 training 0.65            validation 0.6328\n",
      "\n",
      "step: 3800 training 0.583333            validation 0.6386\n",
      "\n",
      "step: 3850 training 0.7            validation 0.6412\n",
      "\n",
      "step: 3900 training 0.65            validation 0.6404\n",
      "\n",
      "step: 3950 training 0.55            validation 0.6404\n",
      "\n",
      "step: 4000 training 0.6            validation 0.6436\n",
      "\n",
      "step: 4050 training 0.616667            validation 0.6398\n",
      "\n",
      "step: 4100 training 0.716667            validation 0.6378\n",
      "\n",
      "step: 4150 training 0.616667            validation 0.6398\n",
      "\n",
      "step: 4200 training 0.616667            validation 0.6392\n",
      "\n",
      "step: 4250 training 0.583333            validation 0.6418\n",
      "\n",
      "step: 4300 training 0.716667            validation 0.6472\n",
      "\n",
      "step: 4350 training 0.583333            validation 0.6414\n",
      "\n",
      "step: 4400 training 0.65            validation 0.6496\n",
      "\n",
      "step: 4450 training 0.616667            validation 0.6454\n",
      "\n",
      "step: 4500 training 0.716667            validation 0.6434\n",
      "\n",
      "step: 4550 training 0.566667            validation 0.6482\n",
      "\n",
      "step: 4600 training 0.7            validation 0.6446\n",
      "\n",
      "step: 4650 training 0.683333            validation 0.6432\n",
      "\n",
      "step: 4700 training 0.683333            validation 0.6478\n",
      "\n",
      "step: 4750 training 0.566667            validation 0.6466\n",
      "\n",
      "step: 4800 training 0.466667            validation 0.6434\n",
      "\n",
      "step: 4850 training 0.65            validation 0.6498\n",
      "\n",
      "step: 4900 training 0.616667            validation 0.6446\n",
      "\n",
      "step: 4950 training 0.7            validation 0.6456\n",
      "\n",
      "step: 5000 training 0.683333            validation 0.6488\n",
      "\n",
      "step: 5050 training 0.666667            validation 0.6494\n",
      "\n",
      "step: 5100 training 0.716667            validation 0.6458\n",
      "\n",
      "step: 5150 training 0.683333            validation 0.6492\n",
      "\n",
      "step: 5200 training 0.633333            validation 0.6492\n",
      "\n",
      "step: 5250 training 0.516667            validation 0.646\n",
      "\n",
      "step: 5300 training 0.7            validation 0.6474\n",
      "\n",
      "step: 5350 training 0.533333            validation 0.6458\n",
      "\n",
      "step: 5400 training 0.733333            validation 0.6474\n",
      "\n",
      "step: 5450 training 0.666667            validation 0.654\n",
      "\n",
      "step: 5500 training 0.583333            validation 0.6572\n",
      "\n",
      "step: 5550 training 0.666667            validation 0.6786\n",
      "\n",
      "step: 5600 training 0.6            validation 0.6862\n",
      "\n",
      "step: 5650 training 0.683333            validation 0.6872\n",
      "\n",
      "step: 5700 training 0.55            validation 0.7002\n",
      "\n",
      "step: 5750 training 0.583333            validation 0.7106\n",
      "\n",
      "step: 5800 training 0.783333            validation 0.7098\n",
      "\n",
      "step: 5850 training 0.716667            validation 0.7142\n",
      "\n",
      "step: 5900 training 0.716667            validation 0.7202\n",
      "\n",
      "step: 5950 training 0.733333            validation 0.7204\n",
      "\n",
      "step: 6000 training 0.75            validation 0.7198\n",
      "\n",
      "step: 6050 training 0.716667            validation 0.7198\n",
      "\n",
      "step: 6100 training 0.7            validation 0.7214\n",
      "\n",
      "step: 6150 training 0.783333            validation 0.7218\n",
      "\n",
      "step: 6200 training 0.633333            validation 0.7232\n",
      "\n",
      "step: 6250 training 0.716667            validation 0.7246\n",
      "\n",
      "step: 6300 training 0.666667            validation 0.7242\n",
      "\n",
      "step: 6350 training 0.75            validation 0.7232\n",
      "\n",
      "step: 6400 training 0.766667            validation 0.724\n",
      "\n",
      "step: 6450 training 0.783333            validation 0.723\n",
      "\n",
      "step: 6500 training 0.8            validation 0.7264\n",
      "\n",
      "step: 6550 training 0.733333            validation 0.7288\n",
      "\n",
      "step: 6600 training 0.716667            validation 0.7298\n",
      "\n",
      "step: 6650 training 0.85            validation 0.7282\n",
      "\n",
      "step: 6700 training 0.616667            validation 0.7308\n",
      "\n",
      "step: 6750 training 0.7            validation 0.7262\n",
      "\n",
      "step: 6800 training 0.733333            validation 0.7272\n",
      "\n",
      "step: 6850 training 0.766667            validation 0.7266\n",
      "\n",
      "step: 6900 training 0.666667            validation 0.7296\n",
      "\n",
      "step: 6950 training 0.733333            validation 0.7306\n",
      "\n",
      "step: 7000 training 0.75            validation 0.7306\n",
      "\n",
      "step: 7050 training 0.833333            validation 0.7302\n",
      "\n",
      "step: 7100 training 0.75            validation 0.7302\n",
      "\n",
      "step: 7150 training 0.633333            validation 0.7342\n",
      "\n",
      "step: 7200 training 0.65            validation 0.7336\n",
      "\n",
      "step: 7250 training 0.716667            validation 0.7278\n",
      "\n",
      "step: 7300 training 0.766667            validation 0.7266\n",
      "\n",
      "step: 7350 training 0.733333            validation 0.7304\n",
      "\n",
      "step: 7400 training 0.683333            validation 0.7302\n",
      "\n",
      "step: 7450 training 0.833333            validation 0.7334\n",
      "\n",
      "step: 7500 training 0.6            validation 0.7294\n",
      "\n",
      "step: 7550 training 0.683333            validation 0.727\n",
      "\n",
      "step: 7600 training 0.733333            validation 0.7344\n",
      "\n",
      "step: 7650 training 0.85            validation 0.7312\n",
      "\n",
      "step: 7700 training 0.8            validation 0.7336\n",
      "\n",
      "step: 7750 training 0.733333            validation 0.7346\n",
      "\n",
      "step: 7800 training 0.833333            validation 0.731\n",
      "\n",
      "step: 7850 training 0.683333            validation 0.7312\n",
      "\n",
      "step: 7900 training 0.75            validation 0.7344\n",
      "\n",
      "step: 7950 training 0.616667            validation 0.7336\n",
      "\n",
      "step: 8000 training 0.666667            validation 0.735\n",
      "\n",
      "step: 8050 training 0.8            validation 0.7338\n",
      "\n",
      "step: 8100 training 0.666667            validation 0.7334\n",
      "\n",
      "step: 8150 training 0.783333            validation 0.7328\n",
      "\n",
      "step: 8200 training 0.7            validation 0.7332\n",
      "\n",
      "step: 8250 training 0.75            validation 0.7326\n",
      "\n",
      "step: 8300 training 0.766667            validation 0.7336\n",
      "\n",
      "step: 8350 training 0.65            validation 0.734\n",
      "\n",
      "step: 8400 training 0.633333            validation 0.7358\n",
      "\n",
      "step: 8450 training 0.7            validation 0.7368\n",
      "\n",
      "step: 8500 training 0.733333            validation 0.7324\n",
      "\n",
      "step: 8550 training 0.816667            validation 0.7368\n",
      "\n",
      "step: 8600 training 0.85            validation 0.7382\n",
      "\n",
      "step: 8650 training 0.8            validation 0.7356\n",
      "\n",
      "step: 8700 training 0.8            validation 0.736\n",
      "\n",
      "step: 8750 training 0.783333            validation 0.7366\n",
      "\n",
      "step: 8800 training 0.716667            validation 0.7366\n",
      "\n",
      "step: 8850 training 0.766667            validation 0.7348\n",
      "\n",
      "step: 8900 training 0.8            validation 0.736\n",
      "\n",
      "step: 8950 training 0.8            validation 0.7372\n",
      "\n",
      "step: 9000 training 0.666667            validation 0.7316\n",
      "\n",
      "step: 9050 training 0.766667            validation 0.7382\n",
      "\n",
      "step: 9100 training 0.733333            validation 0.735\n",
      "\n",
      "step: 9150 training 0.766667            validation 0.7344\n",
      "\n",
      "step: 9200 training 0.683333            validation 0.734\n",
      "\n",
      "step: 9250 training 0.883333            validation 0.737\n",
      "\n",
      "step: 9300 training 0.85            validation 0.7362\n",
      "\n",
      "step: 9350 training 0.783333            validation 0.7376\n",
      "\n",
      "step: 9400 training 0.733333            validation 0.7382\n",
      "\n",
      "step: 9450 training 0.833333            validation 0.7382\n",
      "\n",
      "step: 9500 training 0.783333            validation 0.7376\n",
      "\n",
      "step: 9550 training 0.683333            validation 0.7356\n",
      "\n",
      "step: 9600 training 0.733333            validation 0.7382\n",
      "\n",
      "step: 9650 training 0.666667            validation 0.7372\n",
      "\n",
      "step: 9700 training 0.75            validation 0.7378\n",
      "\n",
      "step: 9750 training 0.716667            validation 0.7382\n",
      "\n",
      "step: 9800 training 0.733333            validation 0.737\n",
      "\n",
      "step: 9850 training 0.766667            validation 0.7388\n",
      "\n",
      "step: 9900 training 0.75            validation 0.7362\n",
      "\n",
      "step: 9950 training 0.783333            validation 0.735\n",
      "\n",
      "test accuracy :  0.7366\n",
      "final output  [[ -8.81210518 -25.73519325  -2.65666533 ...,  10.62966824 -19.78624916\n",
      "  -18.07916451]\n",
      " [ -3.34697652 -16.04665565  13.79251194 ..., -47.72280884 -15.2369709\n",
      "  -15.17028522]\n",
      " [-20.7121048    9.30821514   1.28783834 ...,  -3.48804569  -9.25596142\n",
      "   -9.92414665]\n",
      " ..., \n",
      " [-30.12290382 -22.63880539 -16.69382286 ...,  -3.25479841 -29.62946701\n",
      "  -32.57836151]\n",
      " [-16.12783623  -8.77298355 -14.76419353 ..., -17.38196182 -17.1605072\n",
      "  -21.68273354]\n",
      " [ -5.96359587 -35.76949692  -0.79436404 ..., -30.31736755 -37.15728378\n",
      "  -27.46408463]]\n",
      "The time taken by Training:  19.5956830978\n"
     ]
    }
   ],
   "source": [
    "acc,zs,acc_val , zs_val =[],[],[],[]\n",
    "start_time=time.time()\n",
    "for i in range(10000):\n",
    "\n",
    "    batch_xs , batch_ys =next_batch( 60 , train_img , train_lab) \n",
    "    sess.run( train_step , feed_dict ={ x_pre: batch_xs , y_ :batch_ys })\n",
    "    if i%50 is 0:\n",
    "        train_res = sess.run([accuracy , z1 ] , feed_dict = {x_pre:batch_xs, y_ : batch_ys})\n",
    "        val_res   = sess.run([accuracy , z1 ] , feed_dict = {x_pre:val_img, y_ : val_lab})\n",
    "        \n",
    "        print 'step:',i, 'training',train_res[0],'           validation' , val_res[0] \n",
    "        acc.append(train_res[0])\n",
    "        #print np.shape(train_res[1])\n",
    "        #print np.mean(train_res[1])\n",
    "        \n",
    "        zs.append(np.mean(train_res[1] , axis=0))\n",
    "        print \n",
    "        acc_val.append(val_res[0])\n",
    "        zs_val.append(np.mean(val_res[1] , axis=0))            \n",
    "end_time=time.time()\n",
    "zs , val_zs , acc, acc_val = np.array(zs) , np.array(zs_val) , np.array(acc) , np.array(acc_val)\n",
    "#when we test , through using above 4 parameter we get more higher accuracy \n",
    "test_res = sess.run([accuracy , z1 ] , feed_dict = {x_pre:test_img, y_ : test_lab})\n",
    "print 'test accuracy : ' , test_res[0] \n",
    "print 'final output ' , test_res[1]\n",
    "print 'The time taken by Training: ',end_time - start_time"
   ]
  },
  {
   "cell_type": "code",
   "execution_count": 28,
   "metadata": {
    "collapsed": false
   },
   "outputs": [
    {
     "name": "stdout",
     "output_type": "stream",
     "text": [
      "(10000, 10)\n",
      "[ -8.81210518 -25.73519325  -2.65666533  -1.59528399 -12.83856583\n",
      " -11.61390877 -25.44496155  10.62966824 -19.78624916 -18.07916451]\n"
     ]
    }
   ],
   "source": [
    "print np.shape(test_res[1])\n",
    "print (test_res[1][0,:])\n"
   ]
  },
  {
   "cell_type": "code",
   "execution_count": 30,
   "metadata": {
    "collapsed": false
   },
   "outputs": [
    {
     "data": {
      "text/plain": [
       "<matplotlib.image.AxesImage at 0x7f2ce5994ed0>"
      ]
     },
     "execution_count": 30,
     "metadata": {},
     "output_type": "execute_result"
    },
    {
     "data": {
      "image/png": "[encoded data removed]",
      "text/plain": [
       "<matplotlib.figure.Figure at 0x7f2cdb3185d0>"
      ]
     },
     "metadata": {},
     "output_type": "display_data"
    }
   ],
   "source": [
    "res_img=np.reshape(test_img[0] , newshape=[28,28])\n",
    "plt.imshow(res_img)"
   ]
  },
  {
   "cell_type": "code",
   "execution_count": null,
   "metadata": {
    "collapsed": false
   },
   "outputs": [],
   "source": [
    "print np.shape(zs)"
   ]
  },
  {
   "cell_type": "code",
   "execution_count": null,
   "metadata": {
    "collapsed": false
   },
   "outputs": [],
   "source": [
    "\n",
    "fig ,ax = plt.subplots()\n",
    "\n",
    "ax.plot(range(0,len(acc)*50 , 50) , acc , label='Training accuracy')\n",
    "ax.plot(range(0,len(acc)*50 , 50) ,acc_val , 'r',label='Validation accuracy' )\n",
    "\n",
    "ax.set_xlabel('Training steps')\n",
    "ax.set_ylabel('Accuracy')\n",
    "ax.set_ylim([0,1])\n",
    "ax.set_title(\"Training Accuracy Vs Validation Accuracy\")\n",
    "ax.legend(loc=4)\n",
    "plt.show()\n",
    "        \n",
    "        \n",
    "        "
   ]
  },
  {
   "cell_type": "code",
   "execution_count": null,
   "metadata": {
    "collapsed": false
   },
   "outputs": [],
   "source": [
    "\n",
    "fig ,axes = plt.subplots(10,2 , figsize=(6,20))\n",
    "fig.tight_layout()\n",
    "\n",
    "for i , ax  in enumerate(axes):\n",
    "    ax[0].set_title(\"Training\")\n",
    "    ax[1].set_title(\"Validation\")\n",
    "    ax[0].plot(zs[:,i])\n",
    "    ax[1].plot(val_zs[:,i])"
   ]
  },
  {
   "cell_type": "code",
   "execution_count": null,
   "metadata": {
    "collapsed": true
   },
   "outputs": [],
   "source": []
  },
  {
   "cell_type": "code",
   "execution_count": null,
   "metadata": {
    "collapsed": true
   },
   "outputs": [],
   "source": []
  }
 ],
 "metadata": {
  "kernelspec": {
   "display_name": "Python 2",
   "language": "python",
   "name": "python2"
  },
  "language_info": {
   "codemirror_mode": {
    "name": "ipython",
    "version": 2
   },
   "file_extension": ".py",
   "mimetype": "text/x-python",
   "name": "python",
   "nbconvert_exporter": "python",
   "pygments_lexer": "ipython2",
   "version": "2.7.6"
  }
 },
 "nbformat": 4,
 "nbformat_minor": 1
}
